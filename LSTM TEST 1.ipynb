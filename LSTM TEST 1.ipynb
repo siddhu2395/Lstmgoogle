{
 "cells": [
  {
   "cell_type": "code",
   "execution_count": 12,
   "metadata": {
    "collapsed": true
   },
   "outputs": [],
   "source": [
    "import numpy as np\n",
    "import pandas as pd\n",
    "import matplotlib.pyplot as plt"
   ]
  },
  {
   "cell_type": "code",
   "execution_count": 18,
   "metadata": {},
   "outputs": [],
   "source": [
    "from keras.models import Sequential\n",
    "from keras.layers import Dense\n",
    "from keras.layers import LSTM\n",
    "from keras import metrics"
   ]
  },
  {
   "cell_type": "code",
   "execution_count": 19,
   "metadata": {},
   "outputs": [],
   "source": [
    "from sklearn.preprocessing import MinMaxScaler"
   ]
  },
  {
   "cell_type": "code",
   "execution_count": 20,
   "metadata": {
    "collapsed": true
   },
   "outputs": [],
   "source": [
    "df = pd.read_csv('GOOG.csv')"
   ]
  },
  {
   "cell_type": "code",
   "execution_count": 21,
   "metadata": {},
   "outputs": [
    {
     "name": "stdout",
     "output_type": "stream",
     "text": [
      "251\n"
     ]
    }
   ],
   "source": [
    "L=len(df)\n",
    "print(L) "
   ]
  },
  {
   "cell_type": "code",
   "execution_count": 23,
   "metadata": {},
   "outputs": [
    {
     "data": {
      "image/png": "[encoded data removed]",
      "text/plain": [
       "<matplotlib.figure.Figure at 0x1a259f1a90>"
      ]
     },
     "metadata": {},
     "output_type": "display_data"
    }
   ],
   "source": [
    "Hi = np.array([df.ix[:,2]])\n",
    "low = np.array([df.ix[:,3]])\n",
    "close = np.array([df.ix[:,4]])\n",
    "plt.figure(1)\n",
    "H, = plt.plot(Hi[0,:])\n",
    "L, = plt.plot(low[0,:])\n",
    "C, = plt.plot(close[0,:])\n",
    "\n",
    "plt.legend([H,L,C],[\"high\",\"low\",\"close\"])\n",
    "plt.show()"
   ]
  },
  {
   "cell_type": "code",
   "execution_count": 25,
   "metadata": {},
   "outputs": [],
   "source": [
    "x = np.concatenate([Hi,low],axis=0)\n",
    "#print(x.shape)\n",
    "x= np.transpose(x)\n",
    "y= close\n",
    "y= np.transpose(y)"
   ]
  },
  {
   "cell_type": "code",
   "execution_count": 28,
   "metadata": {},
   "outputs": [],
   "source": [
    "scaler = MinMaxScaler()\n",
    "scaler.fit(x)\n",
    "x = scaler.transform(x)\n",
    "\n"
   ]
  },
  {
   "cell_type": "code",
   "execution_count": 30,
   "metadata": {},
   "outputs": [],
   "source": [
    "scalernew = MinMaxScaler()\n",
    "scalernew.fit(y)\n",
    "y = scalernew.transform(y)"
   ]
  },
  {
   "cell_type": "code",
   "execution_count": 32,
   "metadata": {},
   "outputs": [
    {
     "name": "stdout",
     "output_type": "stream",
     "text": [
      "(251, 1, 2)\n"
     ]
    }
   ],
   "source": [
    "x = np.reshape(x,(x.shape[0],1,x.shape[1]))\n",
    "print(x.shape)"
   ]
  },
  {
   "cell_type": "code",
   "execution_count": 39,
   "metadata": {},
   "outputs": [
    {
     "name": "stdout",
     "output_type": "stream",
     "text": [
      "Epoch 1/15\n",
      " - 1s - loss: 0.0335 - mean_absolute_error: 0.1142\n",
      "Epoch 2/15\n",
      " - 1s - loss: 4.0435e-04 - mean_absolute_error: 0.0155\n",
      "Epoch 3/15\n",
      " - 1s - loss: 3.5534e-04 - mean_absolute_error: 0.0149\n",
      "Epoch 4/15\n",
      " - 1s - loss: 3.5031e-04 - mean_absolute_error: 0.0148\n",
      "Epoch 5/15\n",
      " - 1s - loss: 3.3885e-04 - mean_absolute_error: 0.0139\n",
      "Epoch 6/15\n",
      " - 1s - loss: 3.1716e-04 - mean_absolute_error: 0.0140\n",
      "Epoch 7/15\n",
      " - 1s - loss: 3.0928e-04 - mean_absolute_error: 0.0134\n",
      "Epoch 8/15\n",
      " - 1s - loss: 3.2453e-04 - mean_absolute_error: 0.0139\n",
      "Epoch 9/15\n",
      " - 1s - loss: 3.0867e-04 - mean_absolute_error: 0.0135\n",
      "Epoch 10/15\n",
      " - 1s - loss: 2.9396e-04 - mean_absolute_error: 0.0136\n",
      "Epoch 11/15\n",
      " - 1s - loss: 2.8407e-04 - mean_absolute_error: 0.0130\n",
      "Epoch 12/15\n",
      " - 1s - loss: 3.0533e-04 - mean_absolute_error: 0.0131\n",
      "Epoch 13/15\n",
      " - 1s - loss: 3.1388e-04 - mean_absolute_error: 0.0139\n",
      "Epoch 14/15\n",
      " - 1s - loss: 2.9428e-04 - mean_absolute_error: 0.0131\n",
      "Epoch 15/15\n",
      " - 1s - loss: 2.9421e-04 - mean_absolute_error: 0.0135\n",
      "251/251 [==============================] - 0s 667us/step\n",
      "[[-0.01260658]\n",
      " [ 0.00192705]\n",
      " [ 0.01035599]\n",
      " [ 0.04526233]\n",
      " [ 0.06571057]\n",
      " [ 0.06531254]\n",
      " [ 0.06019492]\n",
      " [ 0.05537356]\n",
      " [ 0.07404976]\n",
      " [ 0.05683126]\n",
      " [ 0.05616366]\n",
      " [ 0.06322166]\n",
      " [ 0.05851445]\n",
      " [ 0.08640946]\n",
      " [ 0.11772044]\n",
      " [ 0.14679849]\n",
      " [ 0.15388234]\n",
      " [ 0.15038222]\n",
      " [ 0.07127577]\n",
      " [ 0.03090467]\n",
      " [ 0.03185529]\n",
      " [ 0.03578862]\n",
      " [ 0.05482139]\n",
      " [ 0.03910396]\n",
      " [ 0.06498962]\n",
      " [ 0.06958837]\n",
      " [ 0.06964494]\n",
      " [ 0.08606859]\n",
      " [ 0.10525174]\n",
      " [ 0.10967903]\n",
      " [ 0.11361536]\n",
      " [ 0.11690989]\n",
      " [ 0.12768666]\n",
      " [ 0.1479421 ]\n",
      " [ 0.14805093]\n",
      " [ 0.13743426]\n",
      " [ 0.1334022 ]\n",
      " [ 0.13574511]\n",
      " [ 0.12619728]\n",
      " [ 0.1511816 ]\n",
      " [ 0.15189126]\n",
      " [ 0.14007133]\n",
      " [ 0.13031356]\n",
      " [ 0.14494243]\n",
      " [ 0.161808  ]\n",
      " [ 0.17253977]\n",
      " [ 0.18621846]\n",
      " [ 0.19897892]\n",
      " [ 0.19246079]\n",
      " [ 0.19489008]\n",
      " [ 0.20747806]\n",
      " [ 0.21360748]\n",
      " [ 0.20477562]\n",
      " [ 0.1846758 ]\n",
      " [ 0.14980069]\n",
      " [ 0.10295705]\n",
      " [ 0.09646762]\n",
      " [ 0.08716504]\n",
      " [ 0.11183191]\n",
      " [ 0.13717645]\n",
      " [ 0.14939132]\n",
      " [ 0.1431903 ]\n",
      " [ 0.16248983]\n",
      " [ 0.15211482]\n",
      " [ 0.1677409 ]\n",
      " [ 0.15014072]\n",
      " [ 0.1265994 ]\n",
      " [ 0.13333625]\n",
      " [ 0.11914966]\n",
      " [ 0.12417176]\n",
      " [ 0.12434554]\n",
      " [ 0.14937153]\n",
      " [ 0.16467057]\n",
      " [ 0.1762704 ]\n",
      " [ 0.18644589]\n",
      " [ 0.1861516 ]\n",
      " [ 0.23598923]\n",
      " [ 0.2776015 ]\n",
      " [ 0.2874916 ]\n",
      " [ 0.29059917]\n",
      " [ 0.4227494 ]\n",
      " [ 0.41357246]\n",
      " [ 0.4358334 ]\n",
      " [ 0.45408344]\n",
      " [ 0.48794538]\n",
      " [ 0.48709416]\n",
      " [ 0.49083635]\n",
      " [ 0.49888784]\n",
      " [ 0.4818095 ]\n",
      " [ 0.47926527]\n",
      " [ 0.48882008]\n",
      " [ 0.4999253 ]\n",
      " [ 0.5222207 ]\n",
      " [ 0.48347268]\n",
      " [ 0.47338888]\n",
      " [ 0.5017629 ]\n",
      " [ 0.51576895]\n",
      " [ 0.5454785 ]\n",
      " [ 0.56339884]\n",
      " [ 0.6047712 ]\n",
      " [ 0.62475395]\n",
      " [ 0.6342993 ]\n",
      " [ 0.6244645 ]\n",
      " [ 0.61022496]\n",
      " [ 0.62797016]\n",
      " [ 0.6627821 ]\n",
      " [ 0.6652529 ]\n",
      " [ 0.6589082 ]\n",
      " [ 0.66204524]\n",
      " [ 0.59339654]\n",
      " [ 0.49671584]\n",
      " [ 0.56328535]\n",
      " [ 0.5623595 ]\n",
      " [ 0.5010277 ]\n",
      " [ 0.5104523 ]\n",
      " [ 0.5714719 ]\n",
      " [ 0.57598466]\n",
      " [ 0.57448643]\n",
      " [ 0.5818451 ]\n",
      " [ 0.59076345]\n",
      " [ 0.59828234]\n",
      " [ 0.51389384]\n",
      " [ 0.48610255]\n",
      " [ 0.45661208]\n",
      " [ 0.44345537]\n",
      " [ 0.39954832]\n",
      " [ 0.40664157]\n",
      " [ 0.40938517]\n",
      " [ 0.43622988]\n",
      " [ 0.46974847]\n",
      " [ 0.4755944 ]\n",
      " [ 0.5228453 ]\n",
      " [ 0.5515612 ]\n",
      " [ 0.564211  ]\n",
      " [ 0.57313544]\n",
      " [ 0.58849895]\n",
      " [ 0.6196193 ]\n",
      " [ 0.6206038 ]\n",
      " [ 0.6135647 ]\n",
      " [ 0.6543674 ]\n",
      " [ 0.5649391 ]\n",
      " [ 0.55134714]\n",
      " [ 0.50890803]\n",
      " [ 0.50694054]\n",
      " [ 0.50410885]\n",
      " [ 0.4983487 ]\n",
      " [ 0.4689656 ]\n",
      " [ 0.4774459 ]\n",
      " [ 0.47526488]\n",
      " [ 0.48347068]\n",
      " [ 0.4894123 ]\n",
      " [ 0.4579915 ]\n",
      " [ 0.42767292]\n",
      " [ 0.42411068]\n",
      " [ 0.4571731 ]\n",
      " [ 0.46323445]\n",
      " [ 0.48025265]\n",
      " [ 0.4492898 ]\n",
      " [ 0.42218372]\n",
      " [ 0.41194597]\n",
      " [ 0.44830295]\n",
      " [ 0.4685612 ]\n",
      " [ 0.46386322]\n",
      " [ 0.45435587]\n",
      " [ 0.43705168]\n",
      " [ 0.4331398 ]\n",
      " [ 0.47063679]\n",
      " [ 0.5106156 ]\n",
      " [ 0.51708996]\n",
      " [ 0.4855503 ]\n",
      " [ 0.47018576]\n",
      " [ 0.48721543]\n",
      " [ 0.49032897]\n",
      " [ 0.49618194]\n",
      " [ 0.48233938]\n",
      " [ 0.49898016]\n",
      " [ 0.4812901 ]\n",
      " [ 0.45744884]\n",
      " [ 0.4400696 ]\n",
      " [ 0.44387797]\n",
      " [ 0.48000276]\n",
      " [ 0.4877765 ]\n",
      " [ 0.48889092]\n",
      " [ 0.44636372]\n",
      " [ 0.47308478]\n",
      " [ 0.5182526 ]\n",
      " [ 0.5407475 ]\n",
      " [ 0.5751572 ]\n",
      " [ 0.5740646 ]\n",
      " [ 0.56804097]\n",
      " [ 0.5748927 ]\n",
      " [ 0.6012041 ]\n",
      " [ 0.63004833]\n",
      " [ 0.6617825 ]\n",
      " [ 0.63832194]\n",
      " [ 0.6649006 ]\n",
      " [ 0.69204384]\n",
      " [ 0.70418066]\n",
      " [ 0.6900126 ]\n",
      " [ 0.70212424]\n",
      " [ 0.6999625 ]\n",
      " [ 0.6717432 ]\n",
      " [ 0.6857555 ]\n",
      " [ 0.65265715]\n",
      " [ 0.6131687 ]\n",
      " [ 0.61931324]\n",
      " [ 0.6592379 ]\n",
      " [ 0.82720923]\n",
      " [ 0.7843367 ]\n",
      " [ 0.78741693]\n",
      " [ 0.8082885 ]\n",
      " [ 0.7989813 ]\n",
      " [ 0.81913275]\n",
      " [ 0.83080804]\n",
      " [ 0.8294192 ]\n",
      " [ 0.8518788 ]\n",
      " [ 0.82045954]\n",
      " [ 0.8239478 ]\n",
      " [ 0.82094705]\n",
      " [ 0.79857624]\n",
      " [ 0.7958151 ]\n",
      " [ 0.8285956 ]\n",
      " [ 0.81807095]\n",
      " [ 0.79660034]\n",
      " [ 0.82737535]\n",
      " [ 0.8499958 ]\n",
      " [ 0.8620407 ]\n",
      " [ 0.889496  ]\n",
      " [ 0.90430874]\n",
      " [ 0.8318083 ]\n",
      " [ 0.8029726 ]\n",
      " [ 0.77087873]\n",
      " [ 0.7488296 ]\n",
      " [ 0.7448717 ]\n",
      " [ 0.7738561 ]\n",
      " [ 0.8182788 ]\n",
      " [ 0.8559603 ]\n",
      " [ 0.85829484]\n",
      " [ 0.87255406]\n",
      " [ 0.87379265]\n",
      " [ 0.90255386]\n",
      " [ 0.9291769 ]\n",
      " [ 0.9688406 ]\n",
      " [ 0.9684714 ]\n",
      " [ 0.95904803]\n",
      " [ 0.95235115]\n",
      " [ 0.9394327 ]\n",
      " [ 0.917061  ]\n",
      " [ 0.9104343 ]\n",
      " [ 0.8986356 ]\n",
      " [ 0.8898941 ]]\n"
     ]
    }
   ],
   "source": [
    "model = Sequential()\n",
    "model.add(LSTM(100,activation='tanh', input_shape=(1,2),recurrent_activation= 'hard_sigmoid'))\n",
    "model.add(Dense(1))\n",
    "model.compile(loss='mean_squared_error',optimizer='rmsprop',metrics=[metrics.mae])\n",
    "model.fit(x,y,epochs=15,batch_size=1,verbose=2)\n",
    "predict = model.predict(x,verbose=1)\n",
    "print(predict)"
   ]
  },
  {
   "cell_type": "code",
   "execution_count": 40,
   "metadata": {},
   "outputs": [
    {
     "ename": "NameError",
     "evalue": "name 'Flase' is not defined",
     "output_type": "error",
     "traceback": [
      "\u001b[0;31m---------------------------------------------------------------------------\u001b[0m",
      "\u001b[0;31mNameError\u001b[0m                                 Traceback (most recent call last)",
      "\u001b[0;32m<ipython-input-40-deb35e3a6f5a>\u001b[0m in \u001b[0;36m<module>\u001b[0;34m()\u001b[0m\n\u001b[1;32m      1\u001b[0m \u001b[0mplt\u001b[0m\u001b[0;34m.\u001b[0m\u001b[0mfigure\u001b[0m\u001b[0;34m(\u001b[0m\u001b[0;36m2\u001b[0m\u001b[0;34m)\u001b[0m\u001b[0;34m\u001b[0m\u001b[0m\n\u001b[1;32m      2\u001b[0m \u001b[0mplt\u001b[0m\u001b[0;34m.\u001b[0m\u001b[0mscatter\u001b[0m\u001b[0;34m(\u001b[0m\u001b[0my\u001b[0m\u001b[0;34m,\u001b[0m\u001b[0mpredict\u001b[0m\u001b[0;34m)\u001b[0m\u001b[0;34m\u001b[0m\u001b[0m\n\u001b[0;32m----> 3\u001b[0;31m \u001b[0mplt\u001b[0m\u001b[0;34m.\u001b[0m\u001b[0mshow\u001b[0m\u001b[0;34m(\u001b[0m\u001b[0mblock\u001b[0m \u001b[0;34m=\u001b[0m \u001b[0mFlase\u001b[0m\u001b[0;34m)\u001b[0m\u001b[0;34m\u001b[0m\u001b[0m\n\u001b[0m",
      "\u001b[0;31mNameError\u001b[0m: name 'Flase' is not defined"
     ]
    }
   ],
   "source": [
    "plt.figure(2)\n",
    "plt.scatter(y,predict)\n",
    "plt.show(block = Flase)\n"
   ]
  },
  {
   "cell_type": "code",
   "execution_count": 41,
   "metadata": {},
   "outputs": [
    {
     "data": {
      "image/png": "[encoded data removed]",
      "text/plain": [
       "<matplotlib.figure.Figure at 0x1a29c84d30>"
      ]
     },
     "metadata": {},
     "output_type": "display_data"
    },
    {
     "data": {
      "image/png": "[encoded data removed]",
      "text/plain": [
       "<matplotlib.figure.Figure at 0x1a2aa2cdd8>"
      ]
     },
     "metadata": {},
     "output_type": "display_data"
    }
   ],
   "source": [
    "plt.figure(3)\n",
    "test, = plt.plot(y)\n",
    "predict, = plt.plot(predict)\n",
    "plt.legend([predict,test],[\"predicted Data\",\"Real Data\"])\n",
    "plt.show()"
   ]
  },
  {
   "cell_type": "code",
   "execution_count": null,
   "metadata": {
    "collapsed": true
   },
   "outputs": [],
   "source": []
  }
 ],
 "metadata": {
  "kernelspec": {
   "display_name": "Python 3",
   "language": "python",
   "name": "python3"
  },
  "language_info": {
   "codemirror_mode": {
    "name": "ipython",
    "version": 3
   },
   "file_extension": ".py",
   "mimetype": "text/x-python",
   "name": "python",
   "nbconvert_exporter": "python",
   "pygments_lexer": "ipython3",
   "version": "3.6.2"
  }
 },
 "nbformat": 4,
 "nbformat_minor": 2
}
